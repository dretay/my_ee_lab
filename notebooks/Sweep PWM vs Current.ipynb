{
 "cells": [
  {
   "cell_type": "code",
   "execution_count": 1,
   "metadata": {},
   "outputs": [],
   "source": [
    "%matplotlib widget\n",
    "import matplotlib.pyplot as plt\n",
    "import numpy as np\n",
    "\n",
    "from instruments.keithley_2280s import Keithley2280S\n",
    "from instruments.siglent_sdg2042 import SiglentSGD2042\n",
    "\n",
    "import time"
   ]
  },
  {
   "cell_type": "code",
   "execution_count": 2,
   "metadata": {},
   "outputs": [],
   "source": [
    "k2280s = Keithley2280S(\"TCPIP0::192.168.1.58::INSTR\")\n",
    "sdg2042 = SiglentSGD2042(\"TCPIP0::192.168.1.59::INSTR\")"
   ]
  },
  {
   "cell_type": "code",
   "execution_count": 3,
   "metadata": {},
   "outputs": [],
   "source": [
    "#setup power supply for 3.3v@100mA\n",
    "k2280s.voltage = 3.3\n",
    "k2280s.current = 0.1\n",
    "k2280s.output = True\n",
    "\n",
    "#setup fun gen for 1kHz PWM @3.3v\n",
    "sdg2042.basic.type_1 = \"SQUARE\"\n",
    "sdg2042.basic.frequency_1 = 1000\n",
    "sdg2042.basic.amplitude_1 = 3.3\n",
    "sdg2042.basic.offset_1 = 1.75\n",
    "sdg2042.basic.duty_1 = 0\n",
    "sdg2042.output_1 = True"
   ]
  },
  {
   "cell_type": "code",
   "execution_count": 6,
   "metadata": {},
   "outputs": [],
   "source": [
    "pwm = []\n",
    "current = []\n",
    "time.sleep( 1 )\n",
    "\n",
    "for i in range(0,110,10):\n",
    "    sdg2042.basic.duty_1 = i\n",
    "    time.sleep( 1 )\n",
    "    pwm.append(sdg2042.basic.duty_1)\n",
    "    current.append(k2280s.current)    \n",
    "\n",
    "# sdg2042.output_1 = False\n",
    "# k2280s.output = False"
   ]
  },
  {
   "cell_type": "code",
   "execution_count": 7,
   "metadata": {},
   "outputs": [],
   "source": [
    "scaled_current = [s*1000 for s in current]\n",
    "rounded = [round(s) for s in pwm]"
   ]
  },
  {
   "cell_type": "code",
   "execution_count": 8,
   "metadata": {},
   "outputs": [
    {
     "data": {
      "application/vnd.jupyter.widget-view+json": {
       "model_id": "d474f880645f46e7aea4bdc6cab944de",
       "version_major": 2,
       "version_minor": 0
      },
      "text/plain": [
       "Canvas(toolbar=Toolbar(toolitems=[('Home', 'Reset original view', 'home', 'home'), ('Back', 'Back to previous …"
      ]
     },
     "metadata": {},
     "output_type": "display_data"
    }
   ],
   "source": [
    "fig, ax = plt.subplots()\n",
    "\n",
    "ax.plot(rounded, scaled_current)\n",
    "\n",
    "ax.set(xlabel='pwm%', ylabel='current (mA)',\n",
    "       title='Current consumption vs PWM')\n",
    "ax.grid()\n",
    "\n",
    "# plt.plot(np.sin(np.linspace(0, 20, 100)));"
   ]
  },
  {
   "cell_type": "code",
   "execution_count": null,
   "metadata": {},
   "outputs": [],
   "source": []
  }
 ],
 "metadata": {
  "kernelspec": {
   "display_name": "Python 3",
   "language": "python",
   "name": "python3"
  },
  "language_info": {
   "codemirror_mode": {
    "name": "ipython",
    "version": 3
   },
   "file_extension": ".py",
   "mimetype": "text/x-python",
   "name": "python",
   "nbconvert_exporter": "python",
   "pygments_lexer": "ipython3",
   "version": "3.7.3"
  }
 },
 "nbformat": 4,
 "nbformat_minor": 4
}
